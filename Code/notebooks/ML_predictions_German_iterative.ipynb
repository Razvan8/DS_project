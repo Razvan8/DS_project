{
 "cells": [
  {
   "cell_type": "code",
   "execution_count": null,
   "metadata": {},
   "outputs": [],
   "source": [
    "import sys\n",
    "%load_ext autoreload\n",
    "%autoreload 2\n",
    "\n",
    "sys.path.append(\"../libs/\")\n",
    "from data_prep import *"
   ]
  },
  {
   "cell_type": "code",
   "execution_count": null,
   "metadata": {},
   "outputs": [],
   "source": [
    "from sklearn.metrics import confusion_matrix\n",
    "from fairlearn.postprocessing import ThresholdOptimizer"
   ]
  },
  {
   "cell_type": "markdown",
   "metadata": {},
   "source": [
    "# Load prepared data and models"
   ]
  },
  {
   "cell_type": "code",
   "execution_count": 2,
   "metadata": {},
   "outputs": [
    {
     "name": "stdout",
     "output_type": "stream",
     "text": [
      "5\n"
     ]
    }
   ],
   "source": [
    "for i in range(0, 11, 2):\n",
    "    var_name = f\"var_{i}\"\n",
    "    globals()[var_name] = i + 1\n",
    "\n",
    "# Now you can access the variables directly\n",
    "for i in range(0, 11, 2):\n",
    "    var_name = f\"var_{i}\"\n",
    "    #print(f\"{var_name}: {globals()[var_name]}\")\n",
    "\n",
    "\n",
    "globals()[\"var\"]=5\n",
    "print(var)\n"
   ]
  },
  {
   "cell_type": "code",
   "execution_count": null,
   "metadata": {},
   "outputs": [],
   "source": [
    "ls_p1=[0.2,0.5,0.8]\n",
    "ls_p2=[0.2,0.5,0.8]\n",
    "\n",
    "import joblib\n",
    "\n",
    "for p1 in ls_p1:\n",
    "    for p2 in ls_p2:\n",
    "        globals()[f'X_train_with_A_{p1}_{p2}'], globals()[f'X_val_with_A_{p1}_{p2}'], globals()[f'X_test_with_A_{p_1}_{p_2}'], globals()[f'y_train_{p_1}_{p_2}'], \n",
    "        globals()[f'y_val{p_1}_{p_2}'], globals()[f'y_test{p_1}_{p_2}'], globals()[f'age_train{p_1}{p_2}'],globals()[f'age_val_{p_1}_{p_2}'],globals()[f'age_test_{p_1}_{p_2}'], \n",
    "        globals()[f'gender_train{p_1}_{p_2}'], globals()[f'gender_val{p_1}_{p_2}'], globals()[f'gender_test_{p_1}_{p_2}'], globals()[f'ed_train{p_1}_{p_2}'],\n",
    "        globals()[f'ed_val_{p_1}_{p_2}'], globals()[f'ed_test_{p_1}_{p_2}'] = load_stored_data(\n",
    "            age=True, gender=True, education=None,dataset_name='German_credit_biased', scale=True, sufix_name=f'_{p_1}_{p_2}')\n",
    "\n",
    "        globals()[f'X_train_val_with_A_{p_1}_{p_2}'], globals()[f'y_train_val_{p_1}_{p_2}'] = merge_two_sets(globals()[f'X_train_with_A_{p1}_{p2}'], globals()[f'X_val_with_A_{p1}_{p2}'], \n",
    "                                                                                                globals()[f'y_train_{p_1}_{p_2}'], globals()[f'y_val{p_1}_{p_2}'])\n",
    "        globals()[f'age_train_val_{p_1}_{p_2}'], globals()[f'gender_train_val_{p_1}_{p_2}'] = merge_two_sets(globals()[f'age_train{p_1}{p_2}'], globals()[f'age_val_{p_1}_{p_2}'], \n",
    "                                                                                              globals()[f'gender_train_{p_1}_{p_2}'], globals()[f'gender_val{p_1}_{p_2}'])\n",
    "\n",
    "\n",
    "############## CONTINUA CU MODELS ITERATIVE #####################\n",
    "\n",
    "        ##Load models  # Load the models from the files\n",
    "\n",
    "        best_rf_A = joblib.load(f'../ML_models/German_credit_biased/best_random_forest_A_model.pkl')\n",
    "        best_knn_A = joblib.load(f'../ML_models/German_credit_biased/best_knn_A_model.pkl')\n",
    "        best_lr_A = joblib.load(f'../ML_models/German_credit_biased/best_logistic_regression_A_model.pkl')\n",
    "\n",
    "        best_lr_big_A =  joblib.load('../ML_models/German_credit_biased/best_logistic_regression_big_A_model.pkl')\n",
    "        # Now you have the loaded models in the respective variables\n",
    "\n",
    "        ##Compute predictions\n",
    "\n",
    "\n",
    "        y_train_pred_lr_A = best_lr_A.predict(X_train_with_A)\n",
    "        y_val_pred_lr_A = best_lr_A.predict(X_val_with_A)\n",
    "        y_test_pred_lr_A=best_lr_big_A.predict(X_test_with_A)\n",
    "        y_train_val_pred_lr_A = best_lr_A.predict(X_train_val_with_A)\n",
    "\n",
    "\n",
    "        y_train_pred_rf_A = best_rf_A.predict(X_train_with_A)\n",
    "        y_val_pred_rf_A = best_rf_A.predict(X_val_with_A)\n",
    "\n",
    "        \n",
    "\n",
    "        \n"
   ]
  }
 ],
 "metadata": {
  "kernelspec": {
   "display_name": "Python 3",
   "language": "python",
   "name": "python3"
  },
  "language_info": {
   "codemirror_mode": {
    "name": "ipython",
    "version": 3
   },
   "file_extension": ".py",
   "mimetype": "text/x-python",
   "name": "python",
   "nbconvert_exporter": "python",
   "pygments_lexer": "ipython3",
   "version": "3.11.3"
  }
 },
 "nbformat": 4,
 "nbformat_minor": 2
}
